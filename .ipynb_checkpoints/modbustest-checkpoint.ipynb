{
 "cells": [
  {
   "cell_type": "code",
   "execution_count": null,
   "id": "179a38e7",
   "metadata": {},
   "outputs": [],
   "source": [
    "pip install pymodbus"
   ]
  },
  {
   "cell_type": "code",
   "execution_count": 7,
   "id": "93e4287c",
   "metadata": {},
   "outputs": [],
   "source": [
    "from pymodbus.client import ModbusTcpClient\n",
    "from pymodbus.transaction import *"
   ]
  },
  {
   "cell_type": "code",
   "execution_count": 8,
   "id": "b620ff28",
   "metadata": {
    "scrolled": true
   },
   "outputs": [
    {
     "name": "stderr",
     "output_type": "stream",
     "text": [
      "Connection to (192.168.0.63, 502) failed: [WinError 10061] 대상 컴퓨터에서 연결을 거부했으므로 연결하지 못했습니다\n"
     ]
    },
    {
     "ename": "ConnectionException",
     "evalue": "Modbus Error: [Connection] Failed to connect[ModbusTcpClient(192.168.0.63:502)]",
     "output_type": "error",
     "traceback": [
      "\u001b[1;31m---------------------------------------------------------------------------\u001b[0m",
      "\u001b[1;31mConnectionException\u001b[0m                       Traceback (most recent call last)",
      "Cell \u001b[1;32mIn[8], line 3\u001b[0m\n\u001b[0;32m      1\u001b[0m client \u001b[38;5;241m=\u001b[39m ModbusTcpClient(\u001b[38;5;124m'\u001b[39m\u001b[38;5;124m192.168.0.63\u001b[39m\u001b[38;5;124m'\u001b[39m, \u001b[38;5;241m502\u001b[39m)\n\u001b[0;32m      2\u001b[0m \u001b[38;5;28;01mfor\u001b[39;00m n \u001b[38;5;129;01min\u001b[39;00m \u001b[38;5;28mrange\u001b[39m(\u001b[38;5;241m0\u001b[39m, \u001b[38;5;241m3\u001b[39m):\n\u001b[1;32m----> 3\u001b[0m     result \u001b[38;5;241m=\u001b[39m client\u001b[38;5;241m.\u001b[39mread_coils(n, \u001b[38;5;241m1\u001b[39m)\n\u001b[0;32m      4\u001b[0m     \u001b[38;5;28mprint\u001b[39m(result\u001b[38;5;241m.\u001b[39mbits)\n\u001b[0;32m      5\u001b[0m client\u001b[38;5;241m.\u001b[39mwrite_coil(\u001b[38;5;241m0\u001b[39m, \u001b[38;5;28;01mTrue\u001b[39;00m)\n",
      "File \u001b[1;32m~\\anaconda3\\Lib\\site-packages\\pymodbus\\client\\mixin.py:77\u001b[0m, in \u001b[0;36mModbusClientMixin.read_coils\u001b[1;34m(self, address, count, slave, **kwargs)\u001b[0m\n\u001b[0;32m     66\u001b[0m \u001b[38;5;28;01mdef\u001b[39;00m \u001b[38;5;21mread_coils\u001b[39m(\n\u001b[0;32m     67\u001b[0m     \u001b[38;5;28mself\u001b[39m, address: \u001b[38;5;28mint\u001b[39m, count: \u001b[38;5;28mint\u001b[39m \u001b[38;5;241m=\u001b[39m \u001b[38;5;241m1\u001b[39m, slave: \u001b[38;5;28mint\u001b[39m \u001b[38;5;241m=\u001b[39m \u001b[38;5;241m0\u001b[39m, \u001b[38;5;241m*\u001b[39m\u001b[38;5;241m*\u001b[39mkwargs: Any\n\u001b[0;32m     68\u001b[0m ) \u001b[38;5;241m-\u001b[39m\u001b[38;5;241m>\u001b[39m ModbusResponse \u001b[38;5;241m|\u001b[39m Awaitable[ModbusResponse]:\n\u001b[0;32m     69\u001b[0m \u001b[38;5;250m    \u001b[39m\u001b[38;5;124;03m\"\"\"Read coils (code 0x01).\u001b[39;00m\n\u001b[0;32m     70\u001b[0m \n\u001b[0;32m     71\u001b[0m \u001b[38;5;124;03m    :param address: Start address to read from\u001b[39;00m\n\u001b[1;32m   (...)\u001b[0m\n\u001b[0;32m     75\u001b[0m \u001b[38;5;124;03m    :raises ModbusException:\u001b[39;00m\n\u001b[0;32m     76\u001b[0m \u001b[38;5;124;03m    \"\"\"\u001b[39;00m\n\u001b[1;32m---> 77\u001b[0m     \u001b[38;5;28;01mreturn\u001b[39;00m \u001b[38;5;28mself\u001b[39m\u001b[38;5;241m.\u001b[39mexecute(\n\u001b[0;32m     78\u001b[0m         pdu_bit_read\u001b[38;5;241m.\u001b[39mReadCoilsRequest(address, count, slave, \u001b[38;5;241m*\u001b[39m\u001b[38;5;241m*\u001b[39mkwargs)\n\u001b[0;32m     79\u001b[0m     )\n",
      "File \u001b[1;32m~\\anaconda3\\Lib\\site-packages\\pymodbus\\client\\base.py:444\u001b[0m, in \u001b[0;36mModbusBaseSyncClient.execute\u001b[1;34m(self, request)\u001b[0m\n\u001b[0;32m    437\u001b[0m \u001b[38;5;250m\u001b[39m\u001b[38;5;124;03m\"\"\"Execute request and get response (call **sync/async**).\u001b[39;00m\n\u001b[0;32m    438\u001b[0m \n\u001b[0;32m    439\u001b[0m \u001b[38;5;124;03m:param request: The request to process\u001b[39;00m\n\u001b[0;32m    440\u001b[0m \u001b[38;5;124;03m:returns: The result of the request execution\u001b[39;00m\n\u001b[0;32m    441\u001b[0m \u001b[38;5;124;03m:raises ConnectionException: Check exception text.\u001b[39;00m\n\u001b[0;32m    442\u001b[0m \u001b[38;5;124;03m\"\"\"\u001b[39;00m\n\u001b[0;32m    443\u001b[0m \u001b[38;5;28;01mif\u001b[39;00m \u001b[38;5;129;01mnot\u001b[39;00m \u001b[38;5;28mself\u001b[39m\u001b[38;5;241m.\u001b[39mconnect():\n\u001b[1;32m--> 444\u001b[0m     \u001b[38;5;28;01mraise\u001b[39;00m ConnectionException(\u001b[38;5;124mf\u001b[39m\u001b[38;5;124m\"\u001b[39m\u001b[38;5;124mFailed to connect[\u001b[39m\u001b[38;5;132;01m{\u001b[39;00m\u001b[38;5;28mself\u001b[39m\u001b[38;5;132;01m!s}\u001b[39;00m\u001b[38;5;124m]\u001b[39m\u001b[38;5;124m\"\u001b[39m)\n\u001b[0;32m    445\u001b[0m \u001b[38;5;28;01mreturn\u001b[39;00m \u001b[38;5;28mself\u001b[39m\u001b[38;5;241m.\u001b[39mtransaction\u001b[38;5;241m.\u001b[39mexecute(request)\n",
      "\u001b[1;31mConnectionException\u001b[0m: Modbus Error: [Connection] Failed to connect[ModbusTcpClient(192.168.0.63:502)]"
     ]
    }
   ],
   "source": [
    "client = ModbusTcpClient('192.168.0.63', 502)\n",
    "for n in range(0, 3):\n",
    "    result = client.read_coils(n, 1)\n",
    "    print(result.bits)\n",
    "client.write_coil(0, True)"
   ]
  }
 ],
 "metadata": {
  "kernelspec": {
   "display_name": "Python 3 (ipykernel)",
   "language": "python",
   "name": "python3"
  },
  "language_info": {
   "codemirror_mode": {
    "name": "ipython",
    "version": 3
   },
   "file_extension": ".py",
   "mimetype": "text/x-python",
   "name": "python",
   "nbconvert_exporter": "python",
   "pygments_lexer": "ipython3",
   "version": "3.11.5"
  }
 },
 "nbformat": 4,
 "nbformat_minor": 5
}
